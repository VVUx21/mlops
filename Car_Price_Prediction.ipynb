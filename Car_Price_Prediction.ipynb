{
  "cells": [
    {
      "cell_type": "code",
      "execution_count": 6,
      "metadata": {
        "id": "JuIL3GLOxCrI"
      },
      "outputs": [],
      "source": [
        "#Importing the libraries\n",
        "import numpy as np # type: ignore\n",
        "import matplotlib.pyplot as plt # type: ignore\n",
        "import pandas as pd # type: ignore"
      ]
    },
    {
      "cell_type": "code",
      "execution_count": 7,
      "metadata": {
        "id": "Pvy2wrKzxJWE"
      },
      "outputs": [],
      "source": [
        "#importing the dataset\n",
        "dataset = pd.read_csv('car data .csv')\n",
        "X = dataset.drop(['Selling_Price','Car_Name'],axis=1).values\n",
        "y = dataset['Selling_Price'].values"
      ]
    },
    {
      "cell_type": "code",
      "execution_count": 8,
      "metadata": {
        "colab": {
          "base_uri": "https://localhost:8080/"
        },
        "id": "n11E9bWbzPoi",
        "outputId": "5e0ee838-0602-445e-d967-88e64fa51993"
      },
      "outputs": [
        {
          "data": {
            "text/plain": [
              "array([[2014, 5.59, 27000, ..., 'Dealer', 'Manual', 0],\n",
              "       [2013, 9.54, 43000, ..., 'Dealer', 'Manual', 0],\n",
              "       [2017, 9.85, 6900, ..., 'Dealer', 'Manual', 0],\n",
              "       ...,\n",
              "       [2009, 11.0, 87934, ..., 'Dealer', 'Manual', 0],\n",
              "       [2017, 12.5, 9000, ..., 'Dealer', 'Manual', 0],\n",
              "       [2016, 5.9, 5464, ..., 'Dealer', 'Manual', 0]],\n",
              "      shape=(301, 7), dtype=object)"
            ]
          },
          "execution_count": 8,
          "metadata": {},
          "output_type": "execute_result"
        }
      ],
      "source": [
        "X"
      ]
    },
    {
      "cell_type": "code",
      "execution_count": 9,
      "metadata": {
        "id": "XFCtgAewyWws"
      },
      "outputs": [],
      "source": [
        "#Encoding the Independent Variables\n",
        "from sklearn.compose import ColumnTransformer # type: ignore\n",
        "from sklearn.preprocessing import OneHotEncoder # type: ignore\n",
        "ct = ColumnTransformer(transformers=[('encoder', OneHotEncoder(), [3,4,5])], remainder='passthrough')\n",
        "X = np.array(ct.fit_transform(X))"
      ]
    },
    {
      "cell_type": "code",
      "execution_count": 10,
      "metadata": {
        "colab": {
          "base_uri": "https://localhost:8080/"
        },
        "id": "m6DRy81P08uO",
        "outputId": "e7f0859d-f478-4976-a35b-24593db7d928"
      },
      "outputs": [
        {
          "name": "stdout",
          "output_type": "stream",
          "text": [
            "[0.0 1.0 0.0 1.0 0.0 0.0 1.0 2013 9.54 43000 0]\n"
          ]
        }
      ],
      "source": [
        "#Checking the encoding\n",
        "print(X[1])"
      ]
    },
    {
      "cell_type": "code",
      "execution_count": 11,
      "metadata": {
        "id": "ccIYMS4c2s-w"
      },
      "outputs": [],
      "source": [
        "# For Fuel_Type\n",
        "# -> Petrol = [0,0,1]\n",
        "# -> Diesel = [0,1,0]\n",
        "# -> LPG = [1,0,0]\n",
        "\n",
        "# For Seller_Type\n",
        "# -> Dealer = [1,0]\n",
        "# -> Individual = [0,1]\n",
        "\n",
        "# For Transmission\n",
        "# -> Manual = [0,1]\n",
        "# -> Automatic = [1,0]"
      ]
    },
    {
      "cell_type": "code",
      "execution_count": 12,
      "metadata": {
        "colab": {
          "base_uri": "https://localhost:8080/"
        },
        "id": "sP7lutXPzdiL",
        "outputId": "7d220b50-c0e4-46e7-b711-c91a82906b0e"
      },
      "outputs": [
        {
          "data": {
            "text/plain": [
              "array([[0.0, 0.0, 1.0, ..., 5.59, 27000, 0],\n",
              "       [0.0, 1.0, 0.0, ..., 9.54, 43000, 0],\n",
              "       [0.0, 0.0, 1.0, ..., 9.85, 6900, 0],\n",
              "       ...,\n",
              "       [0.0, 0.0, 1.0, ..., 11.0, 87934, 0],\n",
              "       [0.0, 1.0, 0.0, ..., 12.5, 9000, 0],\n",
              "       [0.0, 0.0, 1.0, ..., 5.9, 5464, 0]], shape=(301, 11), dtype=object)"
            ]
          },
          "execution_count": 12,
          "metadata": {},
          "output_type": "execute_result"
        }
      ],
      "source": [
        "X"
      ]
    },
    {
      "cell_type": "code",
      "execution_count": 13,
      "metadata": {
        "id": "TfHJnY6YzjVT"
      },
      "outputs": [],
      "source": [
        "# Applying Random Forest Regression Model\n",
        "from sklearn.ensemble import RandomForestRegressor # type: ignore\n",
        "regressor = RandomForestRegressor(n_estimators = 10, random_state = 0)\n",
        "prediction=regressor.fit(X, y)"
      ]
    },
    {
      "cell_type": "code",
      "execution_count": 14,
      "metadata": {
        "colab": {
          "base_uri": "https://localhost:8080/"
        },
        "id": "ovfAiVrxzvWJ",
        "outputId": "ae718d2b-b2f7-42ed-9f9c-0b02de9c3c19"
      },
      "outputs": [
        {
          "name": "stdout",
          "output_type": "stream",
          "text": [
            "0.9742896483040475\n"
          ]
        }
      ],
      "source": [
        "#Calculating the r2 score\n",
        "from sklearn.metrics import r2_score # type: ignore\n",
        "print(r2_score(y,regressor.predict(X)))"
      ]
    },
    {
      "cell_type": "code",
      "execution_count": 15,
      "metadata": {
        "colab": {
          "base_uri": "https://localhost:8080/"
        },
        "id": "LGt7lwSL0cej",
        "outputId": "f036ff68-9fb6-4b29-a56a-779aeb81d055"
      },
      "outputs": [
        {
          "data": {
            "text/plain": [
              "array([6.43])"
            ]
          },
          "execution_count": 15,
          "metadata": {},
          "output_type": "execute_result"
        }
      ],
      "source": [
        "#Predicting for:\n",
        "# Year= 2015, Present_Price=8.12, Kms_Driven=19000, Owner=0, Fuel_Type=Petrol, Seller_Type= Dealer, Transmission= Manual\n",
        "\n",
        "regressor.predict([[0.0,0.0,1.0,1.0,0.0,0.0,1.0,2015,8.12,19000,0]])"
      ]
    }
  ],
  "metadata": {
    "colab": {
      "provenance": []
    },
    "kernelspec": {
      "display_name": "Python 3",
      "name": "python3"
    },
    "language_info": {
      "codemirror_mode": {
        "name": "ipython",
        "version": 3
      },
      "file_extension": ".py",
      "mimetype": "text/x-python",
      "name": "python",
      "nbconvert_exporter": "python",
      "pygments_lexer": "ipython3",
      "version": "3.12.0"
    }
  },
  "nbformat": 4,
  "nbformat_minor": 0
}
